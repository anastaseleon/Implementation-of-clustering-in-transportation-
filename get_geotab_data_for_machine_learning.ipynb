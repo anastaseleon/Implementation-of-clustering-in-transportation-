{
  "nbformat": 4,
  "nbformat_minor": 0,
  "metadata": {
    "colab": {
      "provenance": [],
      "authorship_tag": "ABX9TyPLhOEaB93tOwNH3EuyihE+",
      "include_colab_link": true
    },
    "kernelspec": {
      "name": "python3",
      "display_name": "Python 3"
    },
    "language_info": {
      "name": "python"
    }
  },
  "cells": [
    {
      "cell_type": "markdown",
      "metadata": {
        "id": "view-in-github",
        "colab_type": "text"
      },
      "source": [
        "<a href=\"https://colab.research.google.com/github/anastaseleon/Transport-company-Driving-patern-/blob/main/get_geotab_data_for_machine_learning.ipynb\" target=\"_parent\"><img src=\"https://colab.research.google.com/assets/colab-badge.svg\" alt=\"Open In Colab\"/></a>"
      ]
    },
    {
      "cell_type": "code",
      "execution_count": 6,
      "metadata": {
        "colab": {
          "base_uri": "https://localhost:8080/"
        },
        "id": "o9m0YhNQ-t54",
        "outputId": "c92d42bb-cf95-4a3a-b0f4-dfca3916feb0"
      },
      "outputs": [
        {
          "output_type": "stream",
          "name": "stdout",
          "text": [
            "Looking in indexes: https://pypi.org/simple, https://us-python.pkg.dev/colab-wheels/public/simple/\n",
            "Requirement already satisfied: mygeotab in /usr/local/lib/python3.10/dist-packages (0.8.8)\n",
            "Requirement already satisfied: requests in /usr/local/lib/python3.10/dist-packages (from mygeotab) (2.27.1)\n",
            "Requirement already satisfied: click in /usr/local/lib/python3.10/dist-packages (from mygeotab) (8.1.3)\n",
            "Requirement already satisfied: pytz in /usr/local/lib/python3.10/dist-packages (from mygeotab) (2022.7.1)\n",
            "Requirement already satisfied: arrow in /usr/local/lib/python3.10/dist-packages (from mygeotab) (1.2.3)\n",
            "Requirement already satisfied: six in /usr/local/lib/python3.10/dist-packages (from mygeotab) (1.16.0)\n",
            "Requirement already satisfied: aiohttp<4,>=3.8.1 in /usr/local/lib/python3.10/dist-packages (from mygeotab) (3.8.4)\n",
            "Requirement already satisfied: python-rapidjson in /usr/local/lib/python3.10/dist-packages (from mygeotab) (1.10)\n",
            "Requirement already satisfied: attrs>=17.3.0 in /usr/local/lib/python3.10/dist-packages (from aiohttp<4,>=3.8.1->mygeotab) (23.1.0)\n",
            "Requirement already satisfied: charset-normalizer<4.0,>=2.0 in /usr/local/lib/python3.10/dist-packages (from aiohttp<4,>=3.8.1->mygeotab) (2.0.12)\n",
            "Requirement already satisfied: multidict<7.0,>=4.5 in /usr/local/lib/python3.10/dist-packages (from aiohttp<4,>=3.8.1->mygeotab) (6.0.4)\n",
            "Requirement already satisfied: async-timeout<5.0,>=4.0.0a3 in /usr/local/lib/python3.10/dist-packages (from aiohttp<4,>=3.8.1->mygeotab) (4.0.2)\n",
            "Requirement already satisfied: yarl<2.0,>=1.0 in /usr/local/lib/python3.10/dist-packages (from aiohttp<4,>=3.8.1->mygeotab) (1.9.2)\n",
            "Requirement already satisfied: frozenlist>=1.1.1 in /usr/local/lib/python3.10/dist-packages (from aiohttp<4,>=3.8.1->mygeotab) (1.3.3)\n",
            "Requirement already satisfied: aiosignal>=1.1.2 in /usr/local/lib/python3.10/dist-packages (from aiohttp<4,>=3.8.1->mygeotab) (1.3.1)\n",
            "Requirement already satisfied: python-dateutil>=2.7.0 in /usr/local/lib/python3.10/dist-packages (from arrow->mygeotab) (2.8.2)\n",
            "Requirement already satisfied: urllib3<1.27,>=1.21.1 in /usr/local/lib/python3.10/dist-packages (from requests->mygeotab) (1.26.15)\n",
            "Requirement already satisfied: certifi>=2017.4.17 in /usr/local/lib/python3.10/dist-packages (from requests->mygeotab) (2022.12.7)\n",
            "Requirement already satisfied: idna<4,>=2.5 in /usr/local/lib/python3.10/dist-packages (from requests->mygeotab) (3.4)\n",
            "Looking in indexes: https://pypi.org/simple, https://us-python.pkg.dev/colab-wheels/public/simple/\n",
            "Requirement already satisfied: faker in /usr/local/lib/python3.10/dist-packages (18.10.1)\n",
            "Requirement already satisfied: python-dateutil>=2.4 in /usr/local/lib/python3.10/dist-packages (from faker) (2.8.2)\n",
            "Requirement already satisfied: six>=1.5 in /usr/local/lib/python3.10/dist-packages (from python-dateutil>=2.4->faker) (1.16.0)\n"
          ]
        }
      ],
      "source": [
        "!pip install mygeotab\n",
        "!pip install faker"
      ]
    },
    {
      "cell_type": "code",
      "source": [
        "#geotab\n",
        "import mygeotab\n",
        "from mygeotab import API\n",
        "#Data cleaning tools and importing\n",
        "from faker import Faker\n",
        "import datetime\n",
        "import pandas as pd\n",
        "from google.colab import files\n",
        "from datetime import timedelta\n",
        "import pytz # for timezone"
      ],
      "metadata": {
        "id": "t6Y_3hl2-z3U"
      },
      "execution_count": 12,
      "outputs": []
    },
    {
      "cell_type": "code",
      "source": [
        "api = mygeotab.API(username=\"MyUserName@myorganization.ca\", password=\"*******\", database=\"Database\")\n",
        "api.authenticate()"
      ],
      "metadata": {
        "colab": {
          "base_uri": "https://localhost:8080/"
        },
        "id": "3LkriiS7D7Eh",
        "outputId": "c2043726-d631-40c9-ed3e-f8442347d631"
      },
      "execution_count": 8,
     
                  "metadata": {},
          "execution_count": 8
        }
      ]
    },
    {
      "cell_type": "code",
      "source": [
        "\n",
        "# Get today's date\n",
        "today = datetime.datetime.now(pytz.timezone('America/Montreal'))\n",
        "\n",
        "# Calculate the dates for  previous  weeks\n",
        "from_date = (today - datetime.timedelta(days=today.weekday(), weeks=52)) \n",
        "to_date = (from_date + datetime.timedelta(days=6))\n",
        "\n",
        "# Define search parameters\n",
        "params = {\n",
        "    \"fromDate\": from_date.strftime('%Y-%m-%dT%H:%M:%S'),  \n",
        "    \"toDate\": to_date.strftime('%Y-%m-%dT%H:%M:%S')     \n",
        "    \n",
        "}\n",
        "\n",
        "# Get data from the API and convert to pandas DataFrame\n",
        "driver_data = pd.DataFrame(api.get(\"User\", search=params))\n",
        "trip_data = pd.DataFrame(api.get(\"Trip\", search=params))"
      ],
      "metadata": {
        "id": "1Lafh_f_Dxyq"
      },
      "execution_count": 9,
      "outputs": []
    },
    {
      "cell_type": "code",
      "source": [
        "#use fake if you want to anonimize your data and remove any sensitive information\n",
        "fake = Faker()\n",
        "driver_data['Name'] = driver_data['lastName'].apply(lambda _: fake.name())\n",
        "driver_data= driver_data.drop(['firstName','lastName','authorityName','companyName','name','companyAddress'],axis=1)\n"
      ],
      "metadata": {
        "id": "9ixSwpgODn3y"
      },
      "execution_count": 10,
      "outputs": []
    },
    {
      "cell_type": "code",
      "source": [
        "#download the files\n",
        "trip_data.to_csv('trip_data.csv')\n",
        "driver_data.to_csv('driver_data.csv')\n",
        "files.download('trip_data.csv')\n",
        "files.download('driver_data.csv')"
      ],
      "metadata": {
        "colab": {
          "base_uri": "https://localhost:8080/",
          "height": 17
        },
        "id": "-Pdi9iwvDuuA",
        "outputId": "8131f067-cb5e-404e-af80-03e89292a79f"
      },
      "execution_count": 13,
      "outputs": [
        {
          "output_type": "display_data",
          "data": {
            "text/plain": [
              "<IPython.core.display.Javascript object>"
            ],
            "application/javascript": [
              "\n",
              "    async function download(id, filename, size) {\n",
              "      if (!google.colab.kernel.accessAllowed) {\n",
              "        return;\n",
              "      }\n",
              "      const div = document.createElement('div');\n",
              "      const label = document.createElement('label');\n",
              "      label.textContent = `Downloading \"${filename}\": `;\n",
              "      div.appendChild(label);\n",
              "      const progress = document.createElement('progress');\n",
              "      progress.max = size;\n",
              "      div.appendChild(progress);\n",
              "      document.body.appendChild(div);\n",
              "\n",
              "      const buffers = [];\n",
              "      let downloaded = 0;\n",
              "\n",
              "      const channel = await google.colab.kernel.comms.open(id);\n",
              "      // Send a message to notify the kernel that we're ready.\n",
              "      channel.send({})\n",
              "\n",
              "      for await (const message of channel.messages) {\n",
              "        // Send a message to notify the kernel that we're ready.\n",
              "        channel.send({})\n",
              "        if (message.buffers) {\n",
              "          for (const buffer of message.buffers) {\n",
              "            buffers.push(buffer);\n",
              "            downloaded += buffer.byteLength;\n",
              "            progress.value = downloaded;\n",
              "          }\n",
              "        }\n",
              "      }\n",
              "      const blob = new Blob(buffers, {type: 'application/binary'});\n",
              "      const a = document.createElement('a');\n",
              "      a.href = window.URL.createObjectURL(blob);\n",
              "      a.download = filename;\n",
              "      div.appendChild(a);\n",
              "      a.click();\n",
              "      div.remove();\n",
              "    }\n",
              "  "
            ]
          },
          "metadata": {}
        },
        {
          "output_type": "display_data",
          "data": {
            "text/plain": [
              "<IPython.core.display.Javascript object>"
            ],
            "application/javascript": [
              "download(\"download_ba017bb8-2592-4e0d-9a89-1bd15304040a\", \"trip_data.csv\", 4168126)"
            ]
          },
          "metadata": {}
        },
        {
          "output_type": "display_data",
          "data": {
            "text/plain": [
              "<IPython.core.display.Javascript object>"
            ],
            "application/javascript": [
              "\n",
              "    async function download(id, filename, size) {\n",
              "      if (!google.colab.kernel.accessAllowed) {\n",
              "        return;\n",
              "      }\n",
              "      const div = document.createElement('div');\n",
              "      const label = document.createElement('label');\n",
              "      label.textContent = `Downloading \"${filename}\": `;\n",
              "      div.appendChild(label);\n",
              "      const progress = document.createElement('progress');\n",
              "      progress.max = size;\n",
              "      div.appendChild(progress);\n",
              "      document.body.appendChild(div);\n",
              "\n",
              "      const buffers = [];\n",
              "      let downloaded = 0;\n",
              "\n",
              "      const channel = await google.colab.kernel.comms.open(id);\n",
              "      // Send a message to notify the kernel that we're ready.\n",
              "      channel.send({})\n",
              "\n",
              "      for await (const message of channel.messages) {\n",
              "        // Send a message to notify the kernel that we're ready.\n",
              "        channel.send({})\n",
              "        if (message.buffers) {\n",
              "          for (const buffer of message.buffers) {\n",
              "            buffers.push(buffer);\n",
              "            downloaded += buffer.byteLength;\n",
              "            progress.value = downloaded;\n",
              "          }\n",
              "        }\n",
              "      }\n",
              "      const blob = new Blob(buffers, {type: 'application/binary'});\n",
              "      const a = document.createElement('a');\n",
              "      a.href = window.URL.createObjectURL(blob);\n",
              "      a.download = filename;\n",
              "      div.appendChild(a);\n",
              "      a.click();\n",
              "      div.remove();\n",
              "    }\n",
              "  "
            ]
          },
          "metadata": {}
        },
        {
          "output_type": "display_data",
          "data": {
            "text/plain": [
              "<IPython.core.display.Javascript object>"
            ],
            "application/javascript": [
              "download(\"download_d6871944-d160-499c-a222-caefd26196aa\", \"driver_data.csv\", 307971)"
            ]
          },
          "metadata": {}
        }
      ]
    }
  ]
}
